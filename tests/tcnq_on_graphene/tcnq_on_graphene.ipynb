{
 "cells": [
  {
   "cell_type": "markdown",
   "metadata": {},
   "source": [
    "# TCNQ molecule on graphene\n",
    "\n",
    "Tetracyanoquinodimethane (TCNQ, C<sub>12</sub>H<sub>4</sub>N<sub>4</sub>) is an organic molecule. \n",
    "\n",
    "In this notebook, objects and methods from the *MolAdsPy* library are used to manipulate a TCNQ molecule adsorbed onto graphene."
   ]
  },
  {
   "cell_type": "code",
   "execution_count": 1,
   "metadata": {},
   "outputs": [],
   "source": [
    "from MolAdsPy import Species,Atom,Slab,Molecule,Adsorption"
   ]
  },
  {
   "cell_type": "markdown",
   "metadata": {},
   "source": [
    "## Substrate\n",
    "\n",
    "The graphene structure (coordinates and 2D lattice vectors) is obtained from the *graphene.xyz* file provided in XYZ format. In this case, the Slab structure corresponds to the graphene unit cell."
   ]
  },
  {
   "cell_type": "code",
   "execution_count": 2,
   "metadata": {},
   "outputs": [
    {
     "name": "stdout",
     "output_type": "stream",
     "text": [
      "WARNING: 'pseudopotential' for element 'carbon', if any, must be provided as a string!\n",
      "INFO: 4 Atom objects have just been created from file 'graphene.xyz'!\n"
     ]
    }
   ],
   "source": [
    "graphene=Slab(\"graphene\",\"graphene.xyz\",\"xyz\")"
   ]
  },
  {
   "cell_type": "code",
   "execution_count": 3,
   "metadata": {},
   "outputs": [
    {
     "name": "stdout",
     "output_type": "stream",
     "text": [
      "AtomID, Symbol, Element, X, Y, Z\n",
      "------\n",
      "0, C, carbon, 1.230000, 0.000000, 0.000000\n",
      "1, C, carbon, 0.000000, 0.710141, 0.000000\n",
      "2, C, carbon, 0.000000, 2.130423, 0.000000\n",
      "3, C, carbon, 1.230000, 2.840563, 0.000000\n"
     ]
    }
   ],
   "source": [
    "graphene.list_atoms()"
   ]
  },
  {
   "cell_type": "markdown",
   "metadata": {},
   "source": [
    "### Adsorption sites\n",
    "\n",
    "Three adsorption sites are defined on the slab: *top*, *hollow* and *bridge*."
   ]
  },
  {
   "cell_type": "code",
   "execution_count": 4,
   "metadata": {},
   "outputs": [],
   "source": [
    "graphene.add_adsorption_site(\"top\",[1.23,0.0])\n",
    "graphene.add_adsorption_site(\"hollow\",[1.23,1.41])            \n",
    "graphene.add_adsorption_site(\"bridge\",[0,1.42])"
   ]
  },
  {
   "cell_type": "markdown",
   "metadata": {},
   "source": [
    "### Slab supercell replication\n",
    "\n",
    "The supecercell corresponding to the Slab object is then replicated 6 times along X and 4 times along Y. This obviously increases the number of Atom objects in the Slab, the lattice vectors and the number of adsorption sites."
   ]
  },
  {
   "cell_type": "code",
   "execution_count": 5,
   "metadata": {},
   "outputs": [],
   "source": [
    "graphene.replicate(6,4)"
   ]
  },
  {
   "cell_type": "code",
   "execution_count": 6,
   "metadata": {},
   "outputs": [
    {
     "name": "stdout",
     "output_type": "stream",
     "text": [
      "AtomID, Symbol, Element, X, Y, Z\n",
      "------\n",
      "0, C, carbon, 1.230000, 0.000000, 0.000000\n",
      "1, C, carbon, 0.000000, 0.710141, 0.000000\n",
      "2, C, carbon, 0.000000, 2.130423, 0.000000\n",
      "3, C, carbon, 1.230000, 2.840563, 0.000000\n",
      "4, C, carbon, 1.230000, 4.261000, 0.000000\n",
      "5, C, carbon, 0.000000, 4.971141, 0.000000\n",
      "6, C, carbon, 0.000000, 6.391423, 0.000000\n",
      "7, C, carbon, 1.230000, 7.101563, 0.000000\n",
      "8, C, carbon, 1.230000, 8.522000, 0.000000\n",
      "9, C, carbon, 0.000000, 9.232141, 0.000000\n",
      "10, C, carbon, 0.000000, 10.652423, 0.000000\n",
      "11, C, carbon, 1.230000, 11.362563, 0.000000\n",
      "12, C, carbon, 1.230000, 12.783000, 0.000000\n",
      "13, C, carbon, 0.000000, 13.493141, 0.000000\n",
      "14, C, carbon, 0.000000, 14.913423, 0.000000\n",
      "15, C, carbon, 1.230000, 15.623563, 0.000000\n",
      "16, C, carbon, 3.690000, 0.000000, 0.000000\n",
      "17, C, carbon, 2.460000, 0.710141, 0.000000\n",
      "18, C, carbon, 2.460000, 2.130423, 0.000000\n",
      "19, C, carbon, 3.690000, 2.840563, 0.000000\n",
      "20, C, carbon, 3.690000, 4.261000, 0.000000\n",
      "21, C, carbon, 2.460000, 4.971141, 0.000000\n",
      "22, C, carbon, 2.460000, 6.391423, 0.000000\n",
      "23, C, carbon, 3.690000, 7.101563, 0.000000\n",
      "24, C, carbon, 3.690000, 8.522000, 0.000000\n",
      "25, C, carbon, 2.460000, 9.232141, 0.000000\n",
      "26, C, carbon, 2.460000, 10.652423, 0.000000\n",
      "27, C, carbon, 3.690000, 11.362563, 0.000000\n",
      "28, C, carbon, 3.690000, 12.783000, 0.000000\n",
      "29, C, carbon, 2.460000, 13.493141, 0.000000\n",
      "30, C, carbon, 2.460000, 14.913423, 0.000000\n",
      "31, C, carbon, 3.690000, 15.623563, 0.000000\n",
      "32, C, carbon, 6.150000, 0.000000, 0.000000\n",
      "33, C, carbon, 4.920000, 0.710141, 0.000000\n",
      "34, C, carbon, 4.920000, 2.130423, 0.000000\n",
      "35, C, carbon, 6.150000, 2.840563, 0.000000\n",
      "36, C, carbon, 6.150000, 4.261000, 0.000000\n",
      "37, C, carbon, 4.920000, 4.971141, 0.000000\n",
      "38, C, carbon, 4.920000, 6.391423, 0.000000\n",
      "39, C, carbon, 6.150000, 7.101563, 0.000000\n",
      "40, C, carbon, 6.150000, 8.522000, 0.000000\n",
      "41, C, carbon, 4.920000, 9.232141, 0.000000\n",
      "42, C, carbon, 4.920000, 10.652423, 0.000000\n",
      "43, C, carbon, 6.150000, 11.362563, 0.000000\n",
      "44, C, carbon, 6.150000, 12.783000, 0.000000\n",
      "45, C, carbon, 4.920000, 13.493141, 0.000000\n",
      "46, C, carbon, 4.920000, 14.913423, 0.000000\n",
      "47, C, carbon, 6.150000, 15.623563, 0.000000\n",
      "48, C, carbon, 8.610000, 0.000000, 0.000000\n",
      "49, C, carbon, 7.380000, 0.710141, 0.000000\n",
      "50, C, carbon, 7.380000, 2.130423, 0.000000\n",
      "51, C, carbon, 8.610000, 2.840563, 0.000000\n",
      "52, C, carbon, 8.610000, 4.261000, 0.000000\n",
      "53, C, carbon, 7.380000, 4.971141, 0.000000\n",
      "54, C, carbon, 7.380000, 6.391423, 0.000000\n",
      "55, C, carbon, 8.610000, 7.101563, 0.000000\n",
      "56, C, carbon, 8.610000, 8.522000, 0.000000\n",
      "57, C, carbon, 7.380000, 9.232141, 0.000000\n",
      "58, C, carbon, 7.380000, 10.652423, 0.000000\n",
      "59, C, carbon, 8.610000, 11.362563, 0.000000\n",
      "60, C, carbon, 8.610000, 12.783000, 0.000000\n",
      "61, C, carbon, 7.380000, 13.493141, 0.000000\n",
      "62, C, carbon, 7.380000, 14.913423, 0.000000\n",
      "63, C, carbon, 8.610000, 15.623563, 0.000000\n",
      "64, C, carbon, 11.070000, 0.000000, 0.000000\n",
      "65, C, carbon, 9.840000, 0.710141, 0.000000\n",
      "66, C, carbon, 9.840000, 2.130423, 0.000000\n",
      "67, C, carbon, 11.070000, 2.840563, 0.000000\n",
      "68, C, carbon, 11.070000, 4.261000, 0.000000\n",
      "69, C, carbon, 9.840000, 4.971141, 0.000000\n",
      "70, C, carbon, 9.840000, 6.391423, 0.000000\n",
      "71, C, carbon, 11.070000, 7.101563, 0.000000\n",
      "72, C, carbon, 11.070000, 8.522000, 0.000000\n",
      "73, C, carbon, 9.840000, 9.232141, 0.000000\n",
      "74, C, carbon, 9.840000, 10.652423, 0.000000\n",
      "75, C, carbon, 11.070000, 11.362563, 0.000000\n",
      "76, C, carbon, 11.070000, 12.783000, 0.000000\n",
      "77, C, carbon, 9.840000, 13.493141, 0.000000\n",
      "78, C, carbon, 9.840000, 14.913423, 0.000000\n",
      "79, C, carbon, 11.070000, 15.623563, 0.000000\n",
      "80, C, carbon, 13.530000, 0.000000, 0.000000\n",
      "81, C, carbon, 12.300000, 0.710141, 0.000000\n",
      "82, C, carbon, 12.300000, 2.130423, 0.000000\n",
      "83, C, carbon, 13.530000, 2.840563, 0.000000\n",
      "84, C, carbon, 13.530000, 4.261000, 0.000000\n",
      "85, C, carbon, 12.300000, 4.971141, 0.000000\n",
      "86, C, carbon, 12.300000, 6.391423, 0.000000\n",
      "87, C, carbon, 13.530000, 7.101563, 0.000000\n",
      "88, C, carbon, 13.530000, 8.522000, 0.000000\n",
      "89, C, carbon, 12.300000, 9.232141, 0.000000\n",
      "90, C, carbon, 12.300000, 10.652423, 0.000000\n",
      "91, C, carbon, 13.530000, 11.362563, 0.000000\n",
      "92, C, carbon, 13.530000, 12.783000, 0.000000\n",
      "93, C, carbon, 12.300000, 13.493141, 0.000000\n",
      "94, C, carbon, 12.300000, 14.913423, 0.000000\n",
      "95, C, carbon, 13.530000, 15.623563, 0.000000\n"
     ]
    }
   ],
   "source": [
    "graphene.list_atoms()"
   ]
  },
  {
   "cell_type": "code",
   "execution_count": 7,
   "metadata": {},
   "outputs": [
    {
     "name": "stdout",
     "output_type": "stream",
     "text": [
      "Label, Index, X, Y\n",
      "------\n",
      "top, 0, 1.230000, 0.000000\n",
      "top, 1, 1.230000, 4.261000\n",
      "top, 2, 1.230000, 8.522000\n",
      "top, 3, 1.230000, 12.783000\n",
      "top, 4, 3.690000, 0.000000\n",
      "top, 5, 3.690000, 4.261000\n",
      "top, 6, 3.690000, 8.522000\n",
      "top, 7, 3.690000, 12.783000\n",
      "top, 8, 6.150000, 0.000000\n",
      "top, 9, 6.150000, 4.261000\n",
      "top, 10, 6.150000, 8.522000\n",
      "top, 11, 6.150000, 12.783000\n",
      "top, 12, 8.610000, 0.000000\n",
      "top, 13, 8.610000, 4.261000\n",
      "top, 14, 8.610000, 8.522000\n",
      "top, 15, 8.610000, 12.783000\n",
      "top, 16, 11.070000, 0.000000\n",
      "top, 17, 11.070000, 4.261000\n",
      "top, 18, 11.070000, 8.522000\n",
      "top, 19, 11.070000, 12.783000\n",
      "top, 20, 13.530000, 0.000000\n",
      "top, 21, 13.530000, 4.261000\n",
      "top, 22, 13.530000, 8.522000\n",
      "top, 23, 13.530000, 12.783000\n",
      "hollow, 0, 1.230000, 1.410000\n",
      "hollow, 1, 1.230000, 5.671000\n",
      "hollow, 2, 1.230000, 9.932000\n",
      "hollow, 3, 1.230000, 14.193000\n",
      "hollow, 4, 3.690000, 1.410000\n",
      "hollow, 5, 3.690000, 5.671000\n",
      "hollow, 6, 3.690000, 9.932000\n",
      "hollow, 7, 3.690000, 14.193000\n",
      "hollow, 8, 6.150000, 1.410000\n",
      "hollow, 9, 6.150000, 5.671000\n",
      "hollow, 10, 6.150000, 9.932000\n",
      "hollow, 11, 6.150000, 14.193000\n",
      "hollow, 12, 8.610000, 1.410000\n",
      "hollow, 13, 8.610000, 5.671000\n",
      "hollow, 14, 8.610000, 9.932000\n",
      "hollow, 15, 8.610000, 14.193000\n",
      "hollow, 16, 11.070000, 1.410000\n",
      "hollow, 17, 11.070000, 5.671000\n",
      "hollow, 18, 11.070000, 9.932000\n",
      "hollow, 19, 11.070000, 14.193000\n",
      "hollow, 20, 13.530000, 1.410000\n",
      "hollow, 21, 13.530000, 5.671000\n",
      "hollow, 22, 13.530000, 9.932000\n",
      "hollow, 23, 13.530000, 14.193000\n",
      "bridge, 0, 0.000000, 1.420000\n",
      "bridge, 1, 0.000000, 5.681000\n",
      "bridge, 2, 0.000000, 9.942000\n",
      "bridge, 3, 0.000000, 14.203000\n",
      "bridge, 4, 2.460000, 1.420000\n",
      "bridge, 5, 2.460000, 5.681000\n",
      "bridge, 6, 2.460000, 9.942000\n",
      "bridge, 7, 2.460000, 14.203000\n",
      "bridge, 8, 4.920000, 1.420000\n",
      "bridge, 9, 4.920000, 5.681000\n",
      "bridge, 10, 4.920000, 9.942000\n",
      "bridge, 11, 4.920000, 14.203000\n",
      "bridge, 12, 7.380000, 1.420000\n",
      "bridge, 13, 7.380000, 5.681000\n",
      "bridge, 14, 7.380000, 9.942000\n",
      "bridge, 15, 7.380000, 14.203000\n",
      "bridge, 16, 9.840000, 1.420000\n",
      "bridge, 17, 9.840000, 5.681000\n",
      "bridge, 18, 9.840000, 9.942000\n",
      "bridge, 19, 9.840000, 14.203000\n",
      "bridge, 20, 12.300000, 1.420000\n",
      "bridge, 21, 12.300000, 5.681000\n",
      "bridge, 22, 12.300000, 9.942000\n",
      "bridge, 23, 12.300000, 14.203000\n"
     ]
    }
   ],
   "source": [
    "graphene.list_adsorption_sites()"
   ]
  },
  {
   "cell_type": "markdown",
   "metadata": {},
   "source": [
    "## TCNQ molecule\n",
    "\n",
    "The coordinates and other information of the TCNQ molecule are extracted from the *tcnq.xyz* file."
   ]
  },
  {
   "cell_type": "code",
   "execution_count": 8,
   "metadata": {},
   "outputs": [
    {
     "name": "stdout",
     "output_type": "stream",
     "text": [
      "WARNING: 'pseudopotential' for element 'nitrogen', if any, must be provided as a string!\n",
      "WARNING: 'pseudopotential' for element 'hydrogen', if any, must be provided as a string!\n",
      "INFO: 20 Atom objects have just been created from file 'tcnq.xyz'!\n"
     ]
    }
   ],
   "source": [
    "tcnq=Molecule(\"TCNQ\",\"tcnq.xyz\",\"xyz\")"
   ]
  },
  {
   "cell_type": "code",
   "execution_count": 9,
   "metadata": {},
   "outputs": [
    {
     "name": "stdout",
     "output_type": "stream",
     "text": [
      "AtomID, Symbol, Element, X, Y, Z\n",
      "------\n",
      "96, C, carbon, 6.171380, 8.422068, 9.870778\n",
      "97, C, carbon, 6.920763, 9.652493, 9.864589\n",
      "98, C, carbon, 8.294993, 9.651702, 9.865653\n",
      "99, C, carbon, 9.042711, 8.420056, 9.872673\n",
      "100, C, carbon, 8.292974, 7.189992, 9.866488\n",
      "101, C, carbon, 6.919360, 7.190684, 9.865660\n",
      "102, C, carbon, 4.749370, 8.422456, 9.886849\n",
      "103, C, carbon, 3.996510, 9.630563, 9.894764\n",
      "104, C, carbon, 3.997054, 7.213648, 9.901798\n",
      "105, C, carbon, 10.464583, 8.418730, 9.889876\n",
      "106, C, carbon, 11.218904, 9.625894, 9.898188\n",
      "107, C, carbon, 11.215811, 7.209150, 9.902931\n",
      "108, N, nitrogen, 3.379840, 10.630098, 9.886468\n",
      "109, N, nitrogen, 3.383533, 6.212530, 9.900916\n",
      "110, N, nitrogen, 11.836539, 10.624791, 9.889775\n",
      "111, N, nitrogen, 11.829414, 6.208022, 9.899456\n",
      "112, H, hydrogen, 6.383203, 10.599599, 9.860799\n",
      "113, H, hydrogen, 8.833973, 10.597875, 9.862825\n",
      "114, H, hydrogen, 8.830683, 6.242772, 9.863397\n",
      "115, H, hydrogen, 6.380431, 6.244335, 9.861782\n"
     ]
    }
   ],
   "source": [
    "tcnq.list_atoms()"
   ]
  },
  {
   "cell_type": "markdown",
   "metadata": {},
   "source": [
    "### Anchor points\n",
    "\n",
    "Two anchor points located at the first and last N atoms are created."
   ]
  },
  {
   "cell_type": "code",
   "execution_count": 10,
   "metadata": {},
   "outputs": [],
   "source": [
    "tcnq.add_anchor(\"first_n\",[3.379840, 10.630098, 9.886468])\n",
    "tcnq.add_anchor(\"last_n\",[11.829414, 6.208022, 9.899456])"
   ]
  },
  {
   "cell_type": "markdown",
   "metadata": {},
   "source": [
    "## Adsorption\n",
    "\n",
    "In order to adsorb the TCNQ molecule, first, an *Adsorption* object must be created for the Slab object (graphene) which is the substrate.\n",
    "\n",
    "Then the TCNQ molecule is initially placed with the previously created *first_n* anchor vertically aligned with the 12<sup>th</sup> *top* adsorption site, with a minimum molecule-substrate separation of 2.5 Angs."
   ]
  },
  {
   "cell_type": "code",
   "execution_count": 11,
   "metadata": {},
   "outputs": [],
   "source": [
    "tcnq_on_graphene=Adsorption(graphene)"
   ]
  },
  {
   "cell_type": "code",
   "execution_count": 12,
   "metadata": {},
   "outputs": [],
   "source": [
    "tcnq_on_graphene.add_molecule(tcnq,\"top\",12,\"first_n\",2.5)"
   ]
  },
  {
   "cell_type": "code",
   "execution_count": 13,
   "metadata": {},
   "outputs": [],
   "source": [
    "tcnq_on_graphene.write_xyz(\"coord1.xyz\")"
   ]
  },
  {
   "cell_type": "markdown",
   "metadata": {},
   "source": [
    "The TCNQ molecule is rigid moved such that, now, the *last_n* anchor is aligned with the 12<sup>th</sup> adsorption site."
   ]
  },
  {
   "cell_type": "code",
   "execution_count": 14,
   "metadata": {},
   "outputs": [],
   "source": [
    "tcnq_on_graphene.move_molecule_to(tcnq,\"top\",12,\"last_n\",2.5)"
   ]
  },
  {
   "cell_type": "code",
   "execution_count": 15,
   "metadata": {},
   "outputs": [],
   "source": [
    "tcnq_on_graphene.write_xyz(\"coord2.xyz\")"
   ]
  },
  {
   "cell_type": "markdown",
   "metadata": {},
   "source": [
    "Successive rotations are applied to the TCQN molecule.\n",
    "\n",
    "The results of the manipulation of the TCNQ molecule adsorbed on graphene can be visualized by loading the files in XYZ format in a molecular viewer software like Ovito or VMD (there are several others)."
   ]
  },
  {
   "cell_type": "code",
   "execution_count": 16,
   "metadata": {},
   "outputs": [],
   "source": [
    "tcnq_on_graphene.rotate_molecule(tcnq,90,0,0,\"last_n\")"
   ]
  },
  {
   "cell_type": "code",
   "execution_count": 17,
   "metadata": {},
   "outputs": [],
   "source": [
    "tcnq_on_graphene.write_xyz(\"coord3.xyz\")"
   ]
  },
  {
   "cell_type": "code",
   "execution_count": 18,
   "metadata": {},
   "outputs": [],
   "source": [
    "tcnq_on_graphene.rotate_molecule(tcnq,0,0,90,\"first_n\")"
   ]
  },
  {
   "cell_type": "code",
   "execution_count": 19,
   "metadata": {},
   "outputs": [],
   "source": [
    "tcnq_on_graphene.write_xyz(\"coord4.xyz\")"
   ]
  },
  {
   "cell_type": "code",
   "execution_count": 20,
   "metadata": {},
   "outputs": [],
   "source": [
    "tcnq_on_graphene.rotate_molecule(tcnq,60,45,30,\"com\")"
   ]
  },
  {
   "cell_type": "code",
   "execution_count": 21,
   "metadata": {},
   "outputs": [],
   "source": [
    "tcnq_on_graphene.write_xyz(\"coord5.xyz\")"
   ]
  },
  {
   "cell_type": "markdown",
   "metadata": {},
   "source": [
    "### Quantum Espresso's pw.x input\n",
    "\n",
    "Finally, a input script for *pw.x* code from the Quantum Espresso package is created. This input script can be used to relax the adsorbed system using Density Functional Theory (DFT) calculations."
   ]
  },
  {
   "cell_type": "code",
   "execution_count": 22,
   "metadata": {},
   "outputs": [],
   "source": [
    "tcnq_on_graphene.write_pw_input(\"tcnq_on_graphene.in\",20,ecutwfc=40.0)"
   ]
  },
  {
   "cell_type": "code",
   "execution_count": null,
   "metadata": {},
   "outputs": [],
   "source": []
  }
 ],
 "metadata": {
  "kernelspec": {
   "display_name": "Python 3",
   "language": "python",
   "name": "python3"
  },
  "language_info": {
   "codemirror_mode": {
    "name": "ipython",
    "version": 3
   },
   "file_extension": ".py",
   "mimetype": "text/x-python",
   "name": "python",
   "nbconvert_exporter": "python",
   "pygments_lexer": "ipython3",
   "version": "3.7.6"
  }
 },
 "nbformat": 4,
 "nbformat_minor": 4
}
