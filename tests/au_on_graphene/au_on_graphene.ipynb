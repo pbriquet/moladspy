{
 "cells": [
  {
   "cell_type": "markdown",
   "metadata": {},
   "source": [
    "# Au atoms on graphene\n",
    "\n",
    "In this use case of the MolAdsPy library, a number of Au atoms are adsorbed onto graphene."
   ]
  },
  {
   "cell_type": "code",
   "execution_count": 1,
   "metadata": {},
   "outputs": [],
   "source": [
    "from MolAdsPy import Species,Atom,Slab,Molecule,Adsorption"
   ]
  },
  {
   "cell_type": "markdown",
   "metadata": {},
   "source": [
    "## Substrate\n",
    "\n",
    "Initially, the atoms that make up the slab (a graphene unit cell) are created manually.\n",
    "\n",
    "To do so, a Species object representing the chemical element *carbon* is instantiated, and then four carbon atoms are created as Atom objects.\n",
    "\n",
    "The Slab object is then instantiated taking as arguments the list of carbon atoms and the lattice vectors.\n",
    "\n",
    "An adsorption site of type *hollow* is added."
   ]
  },
  {
   "cell_type": "code",
   "execution_count": 2,
   "metadata": {},
   "outputs": [
    {
     "name": "stdout",
     "output_type": "stream",
     "text": [
      "WARNING: 'pseudopotential' for element 'carbon', if any, must be provided as a string!\n"
     ]
    }
   ],
   "source": [
    "carbon=Species(\"C\")"
   ]
  },
  {
   "cell_type": "code",
   "execution_count": 3,
   "metadata": {},
   "outputs": [],
   "source": [
    "c_atoms=[Atom(carbon) for _ in range(4)]"
   ]
  },
  {
   "cell_type": "code",
   "execution_count": 4,
   "metadata": {},
   "outputs": [],
   "source": [
    "c_atoms[0].coords=[1.230000, 0.000000, 0.000000]\n",
    "c_atoms[1].coords=[0.000000, 0.710141, 0.000000]\n",
    "c_atoms[2].coords=[0.000000, 2.130423, 0.000000]\n",
    "c_atoms[3].coords=[1.230000, 2.840563, 0.000000]"
   ]
  },
  {
   "cell_type": "code",
   "execution_count": 5,
   "metadata": {},
   "outputs": [],
   "source": [
    "latvec=[[2.46, 0.0], [0.0, 4.261]]"
   ]
  },
  {
   "cell_type": "code",
   "execution_count": 6,
   "metadata": {},
   "outputs": [],
   "source": [
    "graphene=Slab(\"graphene\",c_atoms,latvec)"
   ]
  },
  {
   "cell_type": "code",
   "execution_count": 7,
   "metadata": {},
   "outputs": [
    {
     "name": "stdout",
     "output_type": "stream",
     "text": [
      "AtomID, Symbol, Element, X, Y, Z\n",
      "------\n",
      "0, C, carbon, 1.230000, 0.000000, 0.000000\n",
      "1, C, carbon, 0.000000, 0.710141, 0.000000\n",
      "2, C, carbon, 0.000000, 2.130423, 0.000000\n",
      "3, C, carbon, 1.230000, 2.840563, 0.000000\n"
     ]
    }
   ],
   "source": [
    "graphene.list_atoms()"
   ]
  },
  {
   "cell_type": "code",
   "execution_count": 8,
   "metadata": {},
   "outputs": [],
   "source": [
    "graphene.add_adsorption_site(\"hollow\",[1.23,1.41])            "
   ]
  },
  {
   "cell_type": "markdown",
   "metadata": {},
   "source": [
    "### Slab supercell replication\n",
    "\n",
    "The supecercell corresponding to the Slab object is then replicated 4 times along X and 3 times along Y. This obviously increases the number of Atom objects in the Slab, the lattice vectors and the number of adsorption sites."
   ]
  },
  {
   "cell_type": "code",
   "execution_count": 9,
   "metadata": {},
   "outputs": [],
   "source": [
    "graphene.replicate(4,3)"
   ]
  },
  {
   "cell_type": "code",
   "execution_count": 10,
   "metadata": {},
   "outputs": [
    {
     "name": "stdout",
     "output_type": "stream",
     "text": [
      "AtomID, Symbol, Element, X, Y, Z\n",
      "------\n",
      "0, C, carbon, 1.230000, 0.000000, 0.000000\n",
      "1, C, carbon, 0.000000, 0.710141, 0.000000\n",
      "2, C, carbon, 0.000000, 2.130423, 0.000000\n",
      "3, C, carbon, 1.230000, 2.840563, 0.000000\n",
      "4, C, carbon, 1.230000, 4.261000, 0.000000\n",
      "5, C, carbon, 0.000000, 4.971141, 0.000000\n",
      "6, C, carbon, 0.000000, 6.391423, 0.000000\n",
      "7, C, carbon, 1.230000, 7.101563, 0.000000\n",
      "8, C, carbon, 1.230000, 8.522000, 0.000000\n",
      "9, C, carbon, 0.000000, 9.232141, 0.000000\n",
      "10, C, carbon, 0.000000, 10.652423, 0.000000\n",
      "11, C, carbon, 1.230000, 11.362563, 0.000000\n",
      "12, C, carbon, 3.690000, 0.000000, 0.000000\n",
      "13, C, carbon, 2.460000, 0.710141, 0.000000\n",
      "14, C, carbon, 2.460000, 2.130423, 0.000000\n",
      "15, C, carbon, 3.690000, 2.840563, 0.000000\n",
      "16, C, carbon, 3.690000, 4.261000, 0.000000\n",
      "17, C, carbon, 2.460000, 4.971141, 0.000000\n",
      "18, C, carbon, 2.460000, 6.391423, 0.000000\n",
      "19, C, carbon, 3.690000, 7.101563, 0.000000\n",
      "20, C, carbon, 3.690000, 8.522000, 0.000000\n",
      "21, C, carbon, 2.460000, 9.232141, 0.000000\n",
      "22, C, carbon, 2.460000, 10.652423, 0.000000\n",
      "23, C, carbon, 3.690000, 11.362563, 0.000000\n",
      "24, C, carbon, 6.150000, 0.000000, 0.000000\n",
      "25, C, carbon, 4.920000, 0.710141, 0.000000\n",
      "26, C, carbon, 4.920000, 2.130423, 0.000000\n",
      "27, C, carbon, 6.150000, 2.840563, 0.000000\n",
      "28, C, carbon, 6.150000, 4.261000, 0.000000\n",
      "29, C, carbon, 4.920000, 4.971141, 0.000000\n",
      "30, C, carbon, 4.920000, 6.391423, 0.000000\n",
      "31, C, carbon, 6.150000, 7.101563, 0.000000\n",
      "32, C, carbon, 6.150000, 8.522000, 0.000000\n",
      "33, C, carbon, 4.920000, 9.232141, 0.000000\n",
      "34, C, carbon, 4.920000, 10.652423, 0.000000\n",
      "35, C, carbon, 6.150000, 11.362563, 0.000000\n",
      "36, C, carbon, 8.610000, 0.000000, 0.000000\n",
      "37, C, carbon, 7.380000, 0.710141, 0.000000\n",
      "38, C, carbon, 7.380000, 2.130423, 0.000000\n",
      "39, C, carbon, 8.610000, 2.840563, 0.000000\n",
      "40, C, carbon, 8.610000, 4.261000, 0.000000\n",
      "41, C, carbon, 7.380000, 4.971141, 0.000000\n",
      "42, C, carbon, 7.380000, 6.391423, 0.000000\n",
      "43, C, carbon, 8.610000, 7.101563, 0.000000\n",
      "44, C, carbon, 8.610000, 8.522000, 0.000000\n",
      "45, C, carbon, 7.380000, 9.232141, 0.000000\n",
      "46, C, carbon, 7.380000, 10.652423, 0.000000\n",
      "47, C, carbon, 8.610000, 11.362563, 0.000000\n"
     ]
    }
   ],
   "source": [
    "graphene.list_atoms()"
   ]
  },
  {
   "cell_type": "code",
   "execution_count": 11,
   "metadata": {},
   "outputs": [
    {
     "name": "stdout",
     "output_type": "stream",
     "text": [
      "Label, Index, X, Y\n",
      "------\n",
      "hollow, 0, 1.230000, 1.410000\n",
      "hollow, 1, 1.230000, 5.671000\n",
      "hollow, 2, 1.230000, 9.932000\n",
      "hollow, 3, 3.690000, 1.410000\n",
      "hollow, 4, 3.690000, 5.671000\n",
      "hollow, 5, 3.690000, 9.932000\n",
      "hollow, 6, 6.150000, 1.410000\n",
      "hollow, 7, 6.150000, 5.671000\n",
      "hollow, 8, 6.150000, 9.932000\n",
      "hollow, 9, 8.610000, 1.410000\n",
      "hollow, 10, 8.610000, 5.671000\n",
      "hollow, 11, 8.610000, 9.932000\n"
     ]
    }
   ],
   "source": [
    "graphene.list_adsorption_sites()"
   ]
  },
  {
   "cell_type": "markdown",
   "metadata": {},
   "source": [
    "## Adsorbing gold atoms\n",
    "\n",
    "Adsorption of gold atoms requires an Adsorption object to be instantiated to a Slab object. In this case, the Slab object referring to graphene is used.\n",
    "\n",
    "To move forward, gold \"molecules\" must be created (only Molecule objects can be adsorbed).\n",
    "\n",
    "A Species object for the chemical element *gold* is instantiated. Then, for each previously defined *hollow* adsorption site, an Atom object referring to this chemical species is created and added to a Molecule object, which consists of a single gold atom. Each molecule is then adsorbed onto graphene at the position corresponding to the adsorption site.\n",
    "\n",
    "The resulting atomic coordinates of the adsorbed system can be viewed in molecular visualization software such as Ovito or VMD by loading the *coord1.xyz* file."
   ]
  },
  {
   "cell_type": "code",
   "execution_count": 12,
   "metadata": {},
   "outputs": [],
   "source": [
    "au_on_graphene=Adsorption(graphene)"
   ]
  },
  {
   "cell_type": "code",
   "execution_count": 13,
   "metadata": {},
   "outputs": [
    {
     "name": "stdout",
     "output_type": "stream",
     "text": [
      "WARNING: 'pseudopotential' for element 'gold', if any, must be provided as a string!\n"
     ]
    }
   ],
   "source": [
    "gold=Species(\"Au\")"
   ]
  },
  {
   "cell_type": "code",
   "execution_count": 14,
   "metadata": {},
   "outputs": [],
   "source": [
    "for i in range(len(graphene.adsorptionsites[\"hollow\"])):\n",
    "    au_atom=Atom(gold)\n",
    "    au_mol=Molecule(\"Au\")\n",
    "    au_mol.add_atom(au_atom)\n",
    "    au_on_graphene.add_molecule(au_mol,\"hollow\",i,\"com\",2.0)"
   ]
  },
  {
   "cell_type": "code",
   "execution_count": 15,
   "metadata": {},
   "outputs": [],
   "source": [
    "au_on_graphene.write_xyz(\"coord1.xyz\")"
   ]
  },
  {
   "cell_type": "markdown",
   "metadata": {},
   "source": [
    "Next, the separation between the gold atoms and the graphene surface is changed from 2.0 to 4.0 Angstroms.\n",
    "\n",
    "Coordinates are saved in the *coord2.xyz* file."
   ]
  },
  {
   "cell_type": "code",
   "execution_count": 16,
   "metadata": {},
   "outputs": [],
   "source": [
    "for mol in au_on_graphene.adsorbedmolecules:\n",
    "    au_on_graphene.set_separation(mol,4.0)"
   ]
  },
  {
   "cell_type": "code",
   "execution_count": 17,
   "metadata": {},
   "outputs": [],
   "source": [
    "au_on_graphene.write_xyz(\"coord2.xyz\")"
   ]
  },
  {
   "cell_type": "markdown",
   "metadata": {},
   "source": [
    "Finally, the gold atoms are displaced over the graphene substrate.\n",
    "\n",
    "Coordinates are saved in the *coord3.xyz* file."
   ]
  },
  {
   "cell_type": "code",
   "execution_count": 18,
   "metadata": {},
   "outputs": [],
   "source": [
    "for mol in au_on_graphene.adsorbedmolecules:\n",
    "    au_on_graphene.displace_molecule(mol,[1.5,1.5,0.0])"
   ]
  },
  {
   "cell_type": "code",
   "execution_count": 19,
   "metadata": {},
   "outputs": [],
   "source": [
    "au_on_graphene.write_xyz(\"coord3.xyz\")"
   ]
  },
  {
   "cell_type": "code",
   "execution_count": null,
   "metadata": {},
   "outputs": [],
   "source": []
  }
 ],
 "metadata": {
  "kernelspec": {
   "display_name": "Python 3",
   "language": "python",
   "name": "python3"
  },
  "language_info": {
   "codemirror_mode": {
    "name": "ipython",
    "version": 3
   },
   "file_extension": ".py",
   "mimetype": "text/x-python",
   "name": "python",
   "nbconvert_exporter": "python",
   "pygments_lexer": "ipython3",
   "version": "3.7.6"
  }
 },
 "nbformat": 4,
 "nbformat_minor": 4
}
