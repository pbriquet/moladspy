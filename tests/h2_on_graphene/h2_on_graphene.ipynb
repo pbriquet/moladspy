{
 "cells": [
  {
   "cell_type": "markdown",
   "metadata": {},
   "source": [
    "# H<sub>2</sub> molecules on graphene\n",
    "\n",
    "In this use case of the MolAdsPy library, up to three H<sub>2</sub> molecules are adsorbed onto graphene."
   ]
  },
  {
   "cell_type": "code",
   "execution_count": 1,
   "metadata": {},
   "outputs": [],
   "source": [
    "from MolAdsPy import Species,Atom,Slab,Molecule,Adsorption"
   ]
  },
  {
   "cell_type": "markdown",
   "metadata": {},
   "source": [
    "## Substrate\n",
    "\n",
    "First, a graphene layer is created as a Slab object.\n",
    "\n",
    "The slab structure (coordinates and 2D lattice vectors) is obtained from the *graphene.xyz* file provided in XYZ format. In this case, the Slab structure corresponds to the graphene unit cell."
   ]
  },
  {
   "cell_type": "code",
   "execution_count": 2,
   "metadata": {},
   "outputs": [
    {
     "name": "stdout",
     "output_type": "stream",
     "text": [
      "WARNING: 'pseudopotential' for element 'carbon', if any, must be provided as a string!\n",
      "INFO: 4 Atom objects have just been created from file 'graphene.xyz'!\n"
     ]
    }
   ],
   "source": [
    "graphene=Slab(\"graphene\",\"graphene.xyz\",\"xyz\")"
   ]
  },
  {
   "cell_type": "code",
   "execution_count": 3,
   "metadata": {},
   "outputs": [
    {
     "name": "stdout",
     "output_type": "stream",
     "text": [
      "AtomID, Symbol, Element, X, Y, Z\n",
      "------\n",
      "0, C, carbon, 1.230000, 0.000000, 0.000000\n",
      "1, C, carbon, 0.000000, 0.710141, 0.000000\n",
      "2, C, carbon, 0.000000, 2.130423, 0.000000\n",
      "3, C, carbon, 1.230000, 2.840563, 0.000000\n"
     ]
    }
   ],
   "source": [
    "graphene.list_atoms()"
   ]
  },
  {
   "cell_type": "markdown",
   "metadata": {},
   "source": [
    "### Adsorption sites\n",
    "\n",
    "Three adsorption sites are defined on the slab: *top*, *hollow* and *bridge*."
   ]
  },
  {
   "cell_type": "code",
   "execution_count": 4,
   "metadata": {},
   "outputs": [],
   "source": [
    "graphene.add_adsorption_site(\"top\",[1.23,0.0])\n",
    "graphene.add_adsorption_site(\"hollow\",[1.23,1.41])            \n",
    "graphene.add_adsorption_site(\"bridge\",[0,1.42])"
   ]
  },
  {
   "cell_type": "code",
   "execution_count": 5,
   "metadata": {},
   "outputs": [
    {
     "name": "stdout",
     "output_type": "stream",
     "text": [
      "Label, Index, X, Y\n",
      "------\n",
      "top, 0, 1.230000, 0.000000\n",
      "hollow, 0, 1.230000, 1.410000\n",
      "bridge, 0, 0.000000, 1.420000\n"
     ]
    }
   ],
   "source": [
    "graphene.list_adsorption_sites()"
   ]
  },
  {
   "cell_type": "markdown",
   "metadata": {},
   "source": [
    "### Slab supercell replication\n",
    "\n",
    "The supecercell corresponding to the Slab object is then replicated 4 times along X and 3 times along Y. This obviously increases the number of Atom objects in the Slab, the lattice vectors and the number of adsorption sites."
   ]
  },
  {
   "cell_type": "code",
   "execution_count": 6,
   "metadata": {},
   "outputs": [],
   "source": [
    "graphene.replicate(4,3)"
   ]
  },
  {
   "cell_type": "code",
   "execution_count": 7,
   "metadata": {},
   "outputs": [
    {
     "name": "stdout",
     "output_type": "stream",
     "text": [
      "AtomID, Symbol, Element, X, Y, Z\n",
      "------\n",
      "0, C, carbon, 1.230000, 0.000000, 0.000000\n",
      "1, C, carbon, 0.000000, 0.710141, 0.000000\n",
      "2, C, carbon, 0.000000, 2.130423, 0.000000\n",
      "3, C, carbon, 1.230000, 2.840563, 0.000000\n",
      "4, C, carbon, 1.230000, 4.261000, 0.000000\n",
      "5, C, carbon, 0.000000, 4.971141, 0.000000\n",
      "6, C, carbon, 0.000000, 6.391423, 0.000000\n",
      "7, C, carbon, 1.230000, 7.101563, 0.000000\n",
      "8, C, carbon, 1.230000, 8.522000, 0.000000\n",
      "9, C, carbon, 0.000000, 9.232141, 0.000000\n",
      "10, C, carbon, 0.000000, 10.652423, 0.000000\n",
      "11, C, carbon, 1.230000, 11.362563, 0.000000\n",
      "12, C, carbon, 3.690000, 0.000000, 0.000000\n",
      "13, C, carbon, 2.460000, 0.710141, 0.000000\n",
      "14, C, carbon, 2.460000, 2.130423, 0.000000\n",
      "15, C, carbon, 3.690000, 2.840563, 0.000000\n",
      "16, C, carbon, 3.690000, 4.261000, 0.000000\n",
      "17, C, carbon, 2.460000, 4.971141, 0.000000\n",
      "18, C, carbon, 2.460000, 6.391423, 0.000000\n",
      "19, C, carbon, 3.690000, 7.101563, 0.000000\n",
      "20, C, carbon, 3.690000, 8.522000, 0.000000\n",
      "21, C, carbon, 2.460000, 9.232141, 0.000000\n",
      "22, C, carbon, 2.460000, 10.652423, 0.000000\n",
      "23, C, carbon, 3.690000, 11.362563, 0.000000\n",
      "24, C, carbon, 6.150000, 0.000000, 0.000000\n",
      "25, C, carbon, 4.920000, 0.710141, 0.000000\n",
      "26, C, carbon, 4.920000, 2.130423, 0.000000\n",
      "27, C, carbon, 6.150000, 2.840563, 0.000000\n",
      "28, C, carbon, 6.150000, 4.261000, 0.000000\n",
      "29, C, carbon, 4.920000, 4.971141, 0.000000\n",
      "30, C, carbon, 4.920000, 6.391423, 0.000000\n",
      "31, C, carbon, 6.150000, 7.101563, 0.000000\n",
      "32, C, carbon, 6.150000, 8.522000, 0.000000\n",
      "33, C, carbon, 4.920000, 9.232141, 0.000000\n",
      "34, C, carbon, 4.920000, 10.652423, 0.000000\n",
      "35, C, carbon, 6.150000, 11.362563, 0.000000\n",
      "36, C, carbon, 8.610000, 0.000000, 0.000000\n",
      "37, C, carbon, 7.380000, 0.710141, 0.000000\n",
      "38, C, carbon, 7.380000, 2.130423, 0.000000\n",
      "39, C, carbon, 8.610000, 2.840563, 0.000000\n",
      "40, C, carbon, 8.610000, 4.261000, 0.000000\n",
      "41, C, carbon, 7.380000, 4.971141, 0.000000\n",
      "42, C, carbon, 7.380000, 6.391423, 0.000000\n",
      "43, C, carbon, 8.610000, 7.101563, 0.000000\n",
      "44, C, carbon, 8.610000, 8.522000, 0.000000\n",
      "45, C, carbon, 7.380000, 9.232141, 0.000000\n",
      "46, C, carbon, 7.380000, 10.652423, 0.000000\n",
      "47, C, carbon, 8.610000, 11.362563, 0.000000\n"
     ]
    }
   ],
   "source": [
    "graphene.list_atoms()"
   ]
  },
  {
   "cell_type": "code",
   "execution_count": 8,
   "metadata": {},
   "outputs": [
    {
     "name": "stdout",
     "output_type": "stream",
     "text": [
      "Label, Index, X, Y\n",
      "------\n",
      "top, 0, 1.230000, 0.000000\n",
      "top, 1, 1.230000, 4.261000\n",
      "top, 2, 1.230000, 8.522000\n",
      "top, 3, 3.690000, 0.000000\n",
      "top, 4, 3.690000, 4.261000\n",
      "top, 5, 3.690000, 8.522000\n",
      "top, 6, 6.150000, 0.000000\n",
      "top, 7, 6.150000, 4.261000\n",
      "top, 8, 6.150000, 8.522000\n",
      "top, 9, 8.610000, 0.000000\n",
      "top, 10, 8.610000, 4.261000\n",
      "top, 11, 8.610000, 8.522000\n",
      "hollow, 0, 1.230000, 1.410000\n",
      "hollow, 1, 1.230000, 5.671000\n",
      "hollow, 2, 1.230000, 9.932000\n",
      "hollow, 3, 3.690000, 1.410000\n",
      "hollow, 4, 3.690000, 5.671000\n",
      "hollow, 5, 3.690000, 9.932000\n",
      "hollow, 6, 6.150000, 1.410000\n",
      "hollow, 7, 6.150000, 5.671000\n",
      "hollow, 8, 6.150000, 9.932000\n",
      "hollow, 9, 8.610000, 1.410000\n",
      "hollow, 10, 8.610000, 5.671000\n",
      "hollow, 11, 8.610000, 9.932000\n",
      "bridge, 0, 0.000000, 1.420000\n",
      "bridge, 1, 0.000000, 5.681000\n",
      "bridge, 2, 0.000000, 9.942000\n",
      "bridge, 3, 2.460000, 1.420000\n",
      "bridge, 4, 2.460000, 5.681000\n",
      "bridge, 5, 2.460000, 9.942000\n",
      "bridge, 6, 4.920000, 1.420000\n",
      "bridge, 7, 4.920000, 5.681000\n",
      "bridge, 8, 4.920000, 9.942000\n",
      "bridge, 9, 7.380000, 1.420000\n",
      "bridge, 10, 7.380000, 5.681000\n",
      "bridge, 11, 7.380000, 9.942000\n"
     ]
    }
   ],
   "source": [
    "graphene.list_adsorption_sites()"
   ]
  },
  {
   "cell_type": "markdown",
   "metadata": {},
   "source": [
    "## H<sub>2</sub> molecule\n",
    "\n",
    "Initially, a new Species object corresponding to the hydrogen element is created. \n",
    "\n",
    "Then two H Atom objects are instantiated.\n",
    "\n",
    "An empty Molecule object is created and, subsequently, the H Atom objects are added to it, resulting in the H<sub>2</sub> molecule."
   ]
  },
  {
   "cell_type": "code",
   "execution_count": 9,
   "metadata": {},
   "outputs": [
    {
     "name": "stdout",
     "output_type": "stream",
     "text": [
      "WARNING: 'pseudopotential' for element 'hydrogen', if any, must be provided as a string!\n"
     ]
    }
   ],
   "source": [
    "hydrogen=Species(\"H\")"
   ]
  },
  {
   "cell_type": "code",
   "execution_count": 10,
   "metadata": {},
   "outputs": [],
   "source": [
    "h_first=Atom(hydrogen,[0.0,0.0,0.0])\n",
    "h_second=Atom(hydrogen,[0.0,0.0,1.0])"
   ]
  },
  {
   "cell_type": "code",
   "execution_count": 11,
   "metadata": {},
   "outputs": [],
   "source": [
    "h2_mol=Molecule(\"H2\")"
   ]
  },
  {
   "cell_type": "code",
   "execution_count": 12,
   "metadata": {},
   "outputs": [],
   "source": [
    "h2_mol.add_atom(h_first)\n",
    "h2_mol.add_atom(h_second)"
   ]
  },
  {
   "cell_type": "code",
   "execution_count": 13,
   "metadata": {},
   "outputs": [
    {
     "name": "stdout",
     "output_type": "stream",
     "text": [
      "AtomID, Symbol, Element, X, Y, Z\n",
      "------\n",
      "48, H, hydrogen, 0.000000, 0.000000, 0.000000\n",
      "49, H, hydrogen, 0.000000, 0.000000, 1.000000\n"
     ]
    }
   ],
   "source": [
    "h2_mol.list_atoms()"
   ]
  },
  {
   "cell_type": "markdown",
   "metadata": {},
   "source": [
    "## Adsorption\n",
    "\n",
    "Adsorption of one or more Molecule objects requires an Adsorption object to be instantiated to a Slab object. In this case, the Slab object referring to graphene is used.\n",
    "\n",
    "The H<sub>2</sub> molecule is adsorbed onto the graphene layer with its center of mass vertically aligned with the fourth *hollow* adsorption site. The minimum separation between the molecule and the substrate is 1.0 Angstrom.\n",
    "\n",
    "The coordinates of the adsorbed system can be visualized loading the *coord1.xyz* file in a molecular viewer software, such as Ovito or VMD (actually, there are several others available)."
   ]
  },
  {
   "cell_type": "code",
   "execution_count": 14,
   "metadata": {},
   "outputs": [],
   "source": [
    "h2_on_graphene=Adsorption(graphene)"
   ]
  },
  {
   "cell_type": "code",
   "execution_count": 15,
   "metadata": {},
   "outputs": [],
   "source": [
    "h2_on_graphene.add_molecule(h2_mol,\"hollow\",4,\"com\",1.0)"
   ]
  },
  {
   "cell_type": "code",
   "execution_count": 16,
   "metadata": {},
   "outputs": [],
   "source": [
    "h2_on_graphene.write_xyz(\"coord1.xyz\")"
   ]
  },
  {
   "cell_type": "markdown",
   "metadata": {},
   "source": [
    "### Second H<sub>2</sub> molecule\n",
    "\n",
    "A second H<sub>2</sub> molecule is created as a copy of the first one.  Then it is adsorbed onto graphene such that its center of mass is aligned with the 8<sup>th</sup> *top* adsorption site.\n",
    "\n",
    "The coordinates of the adsorbed system are saved in the *coord2.xyz* file."
   ]
  },
  {
   "cell_type": "code",
   "execution_count": 17,
   "metadata": {},
   "outputs": [],
   "source": [
    "second_h2_mol=h2_mol.copy()"
   ]
  },
  {
   "cell_type": "code",
   "execution_count": 18,
   "metadata": {},
   "outputs": [],
   "source": [
    "h2_on_graphene.add_molecule(second_h2_mol,\"top\",8,\"com\",1.0)"
   ]
  },
  {
   "cell_type": "code",
   "execution_count": 19,
   "metadata": {},
   "outputs": [],
   "source": [
    "h2_on_graphene.write_xyz(\"coord2.xyz\")"
   ]
  },
  {
   "cell_type": "markdown",
   "metadata": {},
   "source": [
    "For this molecule, besides the center of mass, an anchor point is created at the position of the first hydrogen atom.\n",
    "\n",
    "Next, the molecule is rotated around this newly created anchor point.\n",
    "\n",
    "After rotation, the coordinates are saved in the *coord3.xyz* file."
   ]
  },
  {
   "cell_type": "code",
   "execution_count": 20,
   "metadata": {},
   "outputs": [
    {
     "name": "stdout",
     "output_type": "stream",
     "text": [
      "AtomID, Symbol, Element, X, Y, Z\n",
      "------\n",
      "50, H, hydrogen, 6.150000, 8.522000, 1.000000\n",
      "51, H, hydrogen, 6.150000, 8.522000, 2.000000\n"
     ]
    }
   ],
   "source": [
    "second_h2_mol.list_atoms()"
   ]
  },
  {
   "cell_type": "code",
   "execution_count": 21,
   "metadata": {},
   "outputs": [],
   "source": [
    "second_h2_mol.add_anchor(\"first_h\",[6.150000, 8.522000, 1.000000])"
   ]
  },
  {
   "cell_type": "code",
   "execution_count": 22,
   "metadata": {},
   "outputs": [],
   "source": [
    "h2_on_graphene.rotate_molecule(second_h2_mol,90,0,0,\"first_h\")"
   ]
  },
  {
   "cell_type": "code",
   "execution_count": 23,
   "metadata": {},
   "outputs": [],
   "source": [
    "h2_on_graphene.write_xyz(\"coord3.xyz\")"
   ]
  },
  {
   "cell_type": "markdown",
   "metadata": {},
   "source": [
    "### Third H<sub>2</sub> molecule\n",
    "\n",
    "A third H<sub>2</sub> molecule is now created as a copy of the second molecule. Then it is adsorbed onto graphene such that its center of mass is located just above the 10<sup>th</sup> *bridge* adsorption site. \n",
    "\n",
    "This system with three H<sub>2</sub> molecules adsorbed on graphene can be visualized loading the *coord4.xyz* file into a molecular viewer software."
   ]
  },
  {
   "cell_type": "code",
   "execution_count": 24,
   "metadata": {},
   "outputs": [],
   "source": [
    "third_h2_mol=second_h2_mol.copy()"
   ]
  },
  {
   "cell_type": "code",
   "execution_count": 25,
   "metadata": {},
   "outputs": [],
   "source": [
    "h2_on_graphene.add_molecule(third_h2_mol,\"bridge\",10,\"com\",1.0)"
   ]
  },
  {
   "cell_type": "code",
   "execution_count": 26,
   "metadata": {},
   "outputs": [],
   "source": [
    "h2_on_graphene.write_xyz(\"coord4.xyz\")"
   ]
  },
  {
   "cell_type": "markdown",
   "metadata": {},
   "source": [
    "The third H<sub>2</sub> molecule is also rotated, but now around its center of mass. The resulting coordinates are saved in\n",
    "the *coord5.xyz* file."
   ]
  },
  {
   "cell_type": "code",
   "execution_count": 27,
   "metadata": {},
   "outputs": [],
   "source": [
    "h2_on_graphene.rotate_molecule(third_h2_mol,0,0,90,\"com\")"
   ]
  },
  {
   "cell_type": "code",
   "execution_count": 28,
   "metadata": {},
   "outputs": [],
   "source": [
    "h2_on_graphene.write_xyz(\"coord5.xyz\")"
   ]
  },
  {
   "cell_type": "markdown",
   "metadata": {},
   "source": [
    "### Removal of an H<sub>2</sub> molecule\n",
    "\n",
    "Finally, the first H<sub>2</sub> molecule, whose molecule ID is zero, is removed (desorbed) from the surface. This can be checked out in the *coord6.xyz* file."
   ]
  },
  {
   "cell_type": "code",
   "execution_count": 29,
   "metadata": {},
   "outputs": [
    {
     "name": "stdout",
     "output_type": "stream",
     "text": [
      "MoleculeID, MoleculeType, XCM, YCM, ZCM, Separation\n",
      "------\n",
      "0, H2, 3.690000, 5.671000, 1.500000, 1.000000\n",
      "1, H2, 6.650000, 8.522000, 1.000000, 1.000000\n",
      "2, H2, 7.380000, 5.681000, 1.000000, 1.000000\n"
     ]
    }
   ],
   "source": [
    "h2_on_graphene.list_molecules()"
   ]
  },
  {
   "cell_type": "code",
   "execution_count": 30,
   "metadata": {},
   "outputs": [],
   "source": [
    "h2_on_graphene.remove_molecule(0)"
   ]
  },
  {
   "cell_type": "code",
   "execution_count": 31,
   "metadata": {},
   "outputs": [],
   "source": [
    "h2_on_graphene.write_xyz(\"coord6.xyz\")"
   ]
  },
  {
   "cell_type": "code",
   "execution_count": null,
   "metadata": {},
   "outputs": [],
   "source": []
  }
 ],
 "metadata": {
  "kernelspec": {
   "display_name": "Python 3",
   "language": "python",
   "name": "python3"
  },
  "language_info": {
   "codemirror_mode": {
    "name": "ipython",
    "version": 3
   },
   "file_extension": ".py",
   "mimetype": "text/x-python",
   "name": "python",
   "nbconvert_exporter": "python",
   "pygments_lexer": "ipython3",
   "version": "3.7.6"
  }
 },
 "nbformat": 4,
 "nbformat_minor": 4
}
